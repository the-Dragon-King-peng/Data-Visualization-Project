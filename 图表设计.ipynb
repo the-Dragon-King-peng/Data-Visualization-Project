{
 "cells": [
  {
   "cell_type": "code",
   "execution_count": 1,
   "metadata": {},
   "outputs": [
    {
     "name": "stdout",
     "output_type": "stream",
     "text": [
      "Using matplotlib backend: Qt5Agg\n"
     ]
    }
   ],
   "source": [
    "%matplotlib auto\n",
    "import pandas as pd\n",
    "import numpy as np\n",
    "import re\n",
    "import matplotlib.pyplot as plt\n",
    "plt.rcParams['font.sans-serif'] = ['SimHei']\n",
    "plt.rcParams['figure.autolayout'] = True\n",
    "\n",
    "df = pd.read_excel('../data.xlsx', index_col=0)\n",
    "team_data = df.index.tolist()\n",
    "titles = []\n",
    "\n",
    "def type_c(data): \n",
    "    findfloat = re.compile(r'(.*?)%')\n",
    "    datalist = []\n",
    "    for i in data:\n",
    "        datalist.append(re.findall(findfloat,i)[0])\n",
    "    d = pd.Series(datalist, index=team_data, dtype=float)\n",
    "    return d"
   ]
  },
  {
   "cell_type": "code",
   "execution_count": 2,
   "metadata": {},
   "outputs": [],
   "source": [
    "\"\"\"\n",
    "数据部分\n",
    "\"\"\"\n",
    "# 胜率\n",
    "wr_data = df[\"胜率\"].tolist()\n",
    "wr_data = type_c(wr_data)\n",
    "titles.append(wr_data.idxmax())\n",
    "wr_data_max = wr_data.max()\n",
    "wr_data_max = np.array([wr_data_max, 100 - wr_data_max])\n",
    "# 一血率\n",
    "fb_data = df[\"一血率\"].tolist()\n",
    "fb_data = type_c(fb_data)\n",
    "titles.append(fb_data.idxmax())\n",
    "fb_data_max = fb_data.max()\n",
    "fb_data_max = np.array([fb_data_max, 100 - fb_data_max])\n",
    "# 一塔率\n",
    "ft_data = df[\"一塔率\"].tolist()\n",
    "ft_data = type_c(ft_data)\n",
    "titles.append(ft_data.idxmax())\n",
    "ft_data_max = ft_data.max()\n",
    "ft_data_max = np.array([ft_data_max, 100 - ft_data_max])\n",
    "# 推塔数\n",
    "tt_data = df[\"场均推塔数\"].tolist()\n",
    "tt_data = list(map(float, tt_data))\n",
    "tt_data = pd.Series(tt_data, index=team_data, dtype=float)\n",
    "titles.append(tt_data.idxmax())\n",
    "tt_data_max = tt_data.max()\n",
    "tt_data_max = np.array([tt_data_max, 11 - tt_data_max])\n",
    "# 小龙控制率\n",
    "dc_data = df[\"小龙控制率\"].tolist()\n",
    "dc_data = type_c(dc_data)\n",
    "titles.append(dc_data.idxmax())\n",
    "dc_data_max = dc_data.max()\n",
    "dc_data_max = np.array([dc_data_max, 100 - dc_data_max])\n",
    "\n"
   ]
  },
  {
   "cell_type": "markdown",
   "metadata": {},
   "source": [
    "## 中上图（圆环图）"
   ]
  },
  {
   "cell_type": "code",
   "execution_count": 12,
   "metadata": {},
   "outputs": [],
   "source": [
    "# 布局\n",
    "plt.figure(figsize=(7.68, 4.86), dpi=100)\n",
    "ax1 = plt.subplot(151)\n",
    "ax2 = plt.subplot(152)\n",
    "ax3 = plt.subplot(153)\n",
    "ax4 = plt.subplot(154)\n",
    "ax5 = plt.subplot(155)\n",
    "\n",
    "# 半径\n",
    "radius = 1.25\n",
    "width = 0.3\n",
    "\n",
    "ax1.pie(wr_data_max, radius=radius, wedgeprops={'width': width}, startangle=90, counterclock=False)\n",
    "ax2.pie(fb_data_max, radius=radius, wedgeprops={'width': width}, startangle=90, counterclock=False)\n",
    "ax3.pie(ft_data_max, radius=radius, wedgeprops={'width': width}, startangle=90, counterclock=False)\n",
    "ax4.pie(tt_data_max, radius=radius, wedgeprops={'width': width}, startangle=90, counterclock=False)\n",
    "ax5.pie(dc_data_max, radius=radius, wedgeprops={'width': width}, startangle=90, counterclock=False)\n",
    "\n",
    "# 标题\n",
    "ax1.set_title('胜率\\n{}'.format(titles[0]), fontsize=20)\n",
    "ax2.set_title('一血率\\n{}'.format(titles[1]), fontsize=20)\n",
    "ax3.set_title('一塔率\\n{}'.format(titles[2]), fontsize=20)\n",
    "ax4.set_title('场均推塔数\\n{}'.format(titles[3]), fontsize=20)\n",
    "ax5.set_title('小龙控制率\\n{}'.format(titles[4]), fontsize=20)\n",
    "\n",
    "\n",
    "# 注释文本\n",
    "ax1.text(-0.55, -0.25, '{}%'.format(str(wr_data_max[0])), fontsize=20)\n",
    "ax2.text(-0.55, -0.25, '{}%'.format(str(fb_data_max[0])), fontsize=20)\n",
    "ax3.text(-0.55, -0.25, '{}%'.format(str(ft_data_max[0])), fontsize=20)\n",
    "ax4.text(-0.4, -0.25, '{}'.format(str(tt_data_max[0])), fontsize=20)\n",
    "ax5.text(-0.55, -0.25, '{}%'.format(str(dc_data_max[0])), fontsize=20)\n",
    "\n",
    "# plt.savefig(\"./static/img/middle_up.png\")    # transparent=True\n",
    "plt.show()"
   ]
  },
  {
   "cell_type": "markdown",
   "metadata": {},
   "source": [
    "## 中下图 （折线图）"
   ]
  },
  {
   "cell_type": "code",
   "execution_count": 2,
   "metadata": {},
   "outputs": [],
   "source": [
    "# 第二张图\n",
    "\"\"\"\n",
    "数据部分\n",
    "\"\"\"\n",
    "datalist = []\n",
    "data = df[\"胜率\"].tolist()\n",
    "for i in data:\n",
    "    datalist.append(re.findall(re.compile(r'(.*?)%'), i)[0])\n",
    "df1 = pd.read_excel('../data.xlsx', sheet_name='match data', index_col=0)\n",
    "\n",
    "# 图像数据\n",
    "data_y = np.array(datalist, dtype=float)\n",
    "data_x = np.arange(17)\n",
    "ticks_x = np.array(team_data)\n",
    "\n",
    "# 绘制图像\n",
    "plt.figure(figsize=(7.68, 4.86), dpi=100)\n",
    "ax = plt.subplot(111)\n",
    "plt.tick_params(direction='out', bottom=False)\n",
    "ax.plot(data_x, data_y)\n",
    "ax.set_xlabel(\"战队名\")\n",
    "ax.set_xticks(data_x)\n",
    "ax.set_xticklabels(ticks_x)\n",
    "\n",
    "plt.show()"
   ]
  },
  {
   "cell_type": "code",
   "execution_count": 3,
   "metadata": {},
   "outputs": [
    {
     "data": {
      "text/plain": [
       "array(['TES', 'V5', 'EDG', 'RNG', 'LNG', 'BLG', 'JDG', 'WBG', 'FPX', 'AL',\n",
       "       'WE', 'OMG', 'IG', 'RA', 'UP', 'LGD', 'TT'], dtype='<U3')"
      ]
     },
     "execution_count": 3,
     "metadata": {},
     "output_type": "execute_result"
    }
   ],
   "source": [
    "ticks_x"
   ]
  },
  {
   "cell_type": "code",
   "execution_count": 4,
   "metadata": {},
   "outputs": [],
   "source": [
    "df1 = pd.read_excel('../data.xlsx', sheet_name='match data', index_col=0)"
   ]
  },
  {
   "cell_type": "code",
   "execution_count": 5,
   "metadata": {},
   "outputs": [
    {
     "data": {
      "text/html": [
       "<div>\n",
       "<style scoped>\n",
       "    .dataframe tbody tr th:only-of-type {\n",
       "        vertical-align: middle;\n",
       "    }\n",
       "\n",
       "    .dataframe tbody tr th {\n",
       "        vertical-align: top;\n",
       "    }\n",
       "\n",
       "    .dataframe thead th {\n",
       "        text-align: right;\n",
       "    }\n",
       "</style>\n",
       "<table border=\"1\" class=\"dataframe\">\n",
       "  <thead>\n",
       "    <tr style=\"text-align: right;\">\n",
       "      <th></th>\n",
       "      <th>胜场</th>\n",
       "      <th>负场</th>\n",
       "    </tr>\n",
       "  </thead>\n",
       "  <tbody>\n",
       "    <tr>\n",
       "      <th>V5</th>\n",
       "      <td>14</td>\n",
       "      <td>2</td>\n",
       "    </tr>\n",
       "    <tr>\n",
       "      <th>RNG</th>\n",
       "      <td>12</td>\n",
       "      <td>4</td>\n",
       "    </tr>\n",
       "    <tr>\n",
       "      <th>JDG</th>\n",
       "      <td>11</td>\n",
       "      <td>5</td>\n",
       "    </tr>\n",
       "    <tr>\n",
       "      <th>LNG</th>\n",
       "      <td>11</td>\n",
       "      <td>5</td>\n",
       "    </tr>\n",
       "    <tr>\n",
       "      <th>TES</th>\n",
       "      <td>11</td>\n",
       "      <td>5</td>\n",
       "    </tr>\n",
       "    <tr>\n",
       "      <th>WBG</th>\n",
       "      <td>11</td>\n",
       "      <td>5</td>\n",
       "    </tr>\n",
       "    <tr>\n",
       "      <th>EDG</th>\n",
       "      <td>10</td>\n",
       "      <td>6</td>\n",
       "    </tr>\n",
       "    <tr>\n",
       "      <th>BLG</th>\n",
       "      <td>9</td>\n",
       "      <td>7</td>\n",
       "    </tr>\n",
       "    <tr>\n",
       "      <th>RA</th>\n",
       "      <td>8</td>\n",
       "      <td>8</td>\n",
       "    </tr>\n",
       "    <tr>\n",
       "      <th>FPX</th>\n",
       "      <td>8</td>\n",
       "      <td>8</td>\n",
       "    </tr>\n",
       "    <tr>\n",
       "      <th>OMG</th>\n",
       "      <td>6</td>\n",
       "      <td>10</td>\n",
       "    </tr>\n",
       "    <tr>\n",
       "      <th>UP</th>\n",
       "      <td>5</td>\n",
       "      <td>11</td>\n",
       "    </tr>\n",
       "    <tr>\n",
       "      <th>AL</th>\n",
       "      <td>5</td>\n",
       "      <td>11</td>\n",
       "    </tr>\n",
       "    <tr>\n",
       "      <th>IG</th>\n",
       "      <td>5</td>\n",
       "      <td>11</td>\n",
       "    </tr>\n",
       "    <tr>\n",
       "      <th>WE</th>\n",
       "      <td>4</td>\n",
       "      <td>12</td>\n",
       "    </tr>\n",
       "    <tr>\n",
       "      <th>LGD</th>\n",
       "      <td>3</td>\n",
       "      <td>13</td>\n",
       "    </tr>\n",
       "    <tr>\n",
       "      <th>TT</th>\n",
       "      <td>3</td>\n",
       "      <td>13</td>\n",
       "    </tr>\n",
       "  </tbody>\n",
       "</table>\n",
       "</div>"
      ],
      "text/plain": [
       "     胜场  负场\n",
       "V5   14   2\n",
       "RNG  12   4\n",
       "JDG  11   5\n",
       "LNG  11   5\n",
       "TES  11   5\n",
       "WBG  11   5\n",
       "EDG  10   6\n",
       "BLG   9   7\n",
       "RA    8   8\n",
       "FPX   8   8\n",
       "OMG   6  10\n",
       "UP    5  11\n",
       "AL    5  11\n",
       "IG    5  11\n",
       "WE    4  12\n",
       "LGD   3  13\n",
       "TT    3  13"
      ]
     },
     "execution_count": 5,
     "metadata": {},
     "output_type": "execute_result"
    }
   ],
   "source": [
    "df1"
   ]
  },
  {
   "cell_type": "code",
   "execution_count": 7,
   "metadata": {},
   "outputs": [],
   "source": [
    "team = df1.index.tolist()"
   ]
  },
  {
   "cell_type": "code",
   "execution_count": 8,
   "metadata": {},
   "outputs": [
    {
     "data": {
      "text/plain": [
       "['V5',\n",
       " 'RNG',\n",
       " 'JDG',\n",
       " 'LNG',\n",
       " 'TES',\n",
       " 'WBG',\n",
       " 'EDG',\n",
       " 'BLG',\n",
       " 'RA',\n",
       " 'FPX',\n",
       " 'OMG',\n",
       " 'UP',\n",
       " 'AL',\n",
       " 'IG',\n",
       " 'WE',\n",
       " 'LGD',\n",
       " 'TT']"
      ]
     },
     "execution_count": 8,
     "metadata": {},
     "output_type": "execute_result"
    }
   ],
   "source": [
    "team"
   ]
  },
  {
   "cell_type": "code",
   "execution_count": 13,
   "metadata": {},
   "outputs": [
    {
     "data": {
      "text/plain": [
       "{'V5': 14,\n",
       " 'RNG': 12,\n",
       " 'JDG': 11,\n",
       " 'LNG': 11,\n",
       " 'TES': 11,\n",
       " 'WBG': 11,\n",
       " 'EDG': 10,\n",
       " 'BLG': 9,\n",
       " 'RA': 8,\n",
       " 'FPX': 8,\n",
       " 'OMG': 6,\n",
       " 'UP': 5,\n",
       " 'AL': 5,\n",
       " 'IG': 5,\n",
       " 'WE': 4,\n",
       " 'LGD': 3,\n",
       " 'TT': 3}"
      ]
     },
     "execution_count": 13,
     "metadata": {},
     "output_type": "execute_result"
    }
   ],
   "source": [
    "win = df1[\"胜场\"].tolist()\n",
    "win_dict = dict(zip(team, win))\n",
    "win_dict"
   ]
  },
  {
   "cell_type": "code",
   "execution_count": 14,
   "metadata": {},
   "outputs": [
    {
     "data": {
      "text/plain": [
       "{'V5': 2,\n",
       " 'RNG': 4,\n",
       " 'JDG': 5,\n",
       " 'LNG': 5,\n",
       " 'TES': 5,\n",
       " 'WBG': 5,\n",
       " 'EDG': 6,\n",
       " 'BLG': 7,\n",
       " 'RA': 8,\n",
       " 'FPX': 8,\n",
       " 'OMG': 10,\n",
       " 'UP': 11,\n",
       " 'AL': 11,\n",
       " 'IG': 11,\n",
       " 'WE': 12,\n",
       " 'LGD': 13,\n",
       " 'TT': 13}"
      ]
     },
     "execution_count": 14,
     "metadata": {},
     "output_type": "execute_result"
    }
   ],
   "source": [
    "loss = df1[\"负场\"].tolist()\n",
    "loss_dict = dict(zip(team, loss))\n",
    "loss_dict"
   ]
  },
  {
   "cell_type": "code",
   "execution_count": 20,
   "metadata": {},
   "outputs": [
    {
     "name": "stdout",
     "output_type": "stream",
     "text": [
      "[11, 14, 10, 12, 11, 9, 11, 11, 8, 5, 4, 6, 5, 8, 5, 3, 3]\n",
      "[5, 2, 6, 4, 5, 7, 5, 5, 8, 11, 12, 10, 11, 8, 11, 13, 13]\n"
     ]
    }
   ],
   "source": [
    "wins = []\n",
    "losses = []\n",
    "\n",
    "for i in team_data:\n",
    "    wins.append(win_dict[i])\n",
    "    losses.append(loss_dict[i])\n",
    "print(wins)\n",
    "print(losses)"
   ]
  },
  {
   "cell_type": "code",
   "execution_count": 16,
   "metadata": {},
   "outputs": [
    {
     "data": {
      "text/plain": [
       "['TES',\n",
       " 'V5',\n",
       " 'EDG',\n",
       " 'RNG',\n",
       " 'LNG',\n",
       " 'BLG',\n",
       " 'JDG',\n",
       " 'WBG',\n",
       " 'FPX',\n",
       " 'AL',\n",
       " 'WE',\n",
       " 'OMG',\n",
       " 'IG',\n",
       " 'RA',\n",
       " 'UP',\n",
       " 'LGD',\n",
       " 'TT']"
      ]
     },
     "execution_count": 16,
     "metadata": {},
     "output_type": "execute_result"
    }
   ],
   "source": [
    "team_data"
   ]
  },
  {
   "cell_type": "code",
   "execution_count": null,
   "metadata": {},
   "outputs": [],
   "source": []
  }
 ],
 "metadata": {
  "kernelspec": {
   "display_name": "Python 3",
   "language": "python",
   "name": "python3"
  },
  "language_info": {
   "codemirror_mode": {
    "name": "ipython",
    "version": 3
   },
   "file_extension": ".py",
   "mimetype": "text/x-python",
   "name": "python",
   "nbconvert_exporter": "python",
   "pygments_lexer": "ipython3",
   "version": "3.8.5"
  }
 },
 "nbformat": 4,
 "nbformat_minor": 4
}
