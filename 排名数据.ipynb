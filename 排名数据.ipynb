{
 "cells": [
  {
   "cell_type": "code",
   "execution_count": 4,
   "metadata": {},
   "outputs": [
    {
     "name": "stdout",
     "output_type": "stream",
     "text": [
      "['<div class=\"c-span2\" data-a-0d6f3b8e=\"\"><div class=\"c-response-img90\" data-a-0d6f3b8e=\"\"><div class=\"c-img c-img-s\" data-a-0d6f3b8e=\"\"><img data-a-0d6f3b8e=\"\" src=\"https://search-operate.cdn.bcebos.com/d58b21cd46c5d0595298131fe8162d87.png\"/></div></div></div>', '<div class=\"c-span2\" data-a-6df6b556=\"\" style=\"text-align:center;max-width:none;\"><div data-a-188dee8a=\"\">场次</div></div>', '<div class=\"c-span2\" data-a-6df6b556=\"\" style=\"text-align:center;max-width:none;\"><div data-a-188dee8a=\"\">胜</div></div>', '<div class=\"c-span2\" data-a-6df6b556=\"\" style=\"text-align:center;max-width:none;\"><div data-a-188dee8a=\"\">负</div></div>', '<div class=\"c-span2\" data-a-6df6b556=\"\" style=\"text-align:center;max-width:none;\"><div data-a-188dee8a=\"\">积分</div></div>', '<div class=\"c-span2\" data-a-6df6b556=\"\" style=\"text-align:center;max-width:none;\"><div data-a-188dee8a=\"\">0</div></div>', '<div class=\"c-span2\" data-a-6df6b556=\"\" style=\"text-align:center;max-width:none;\"><div data-a-188dee8a=\"\">0</div></div>', '<div class=\"c-span2\" data-a-6df6b556=\"\" style=\"text-align:center;max-width:none;\"><div data-a-188dee8a=\"\">0</div></div>', '<div class=\"c-span2\" data-a-6df6b556=\"\" style=\"text-align:center;max-width:none;\"><div data-a-188dee8a=\"\">0</div></div>', '<div class=\"c-span2\" data-a-6df6b556=\"\" style=\"text-align:center;max-width:none;\"><div data-a-188dee8a=\"\">0</div></div>', '<div class=\"c-span2\" data-a-6df6b556=\"\" style=\"text-align:center;max-width:none;\"><div data-a-188dee8a=\"\">0</div></div>', '<div class=\"c-span2\" data-a-6df6b556=\"\" style=\"text-align:center;max-width:none;\"><div data-a-188dee8a=\"\">0</div></div>', '<div class=\"c-span2\" data-a-6df6b556=\"\" style=\"text-align:center;max-width:none;\"><div data-a-188dee8a=\"\">0</div></div>', '<div class=\"c-span2\" data-a-6df6b556=\"\" style=\"text-align:center;max-width:none;\"><div data-a-188dee8a=\"\">0</div></div>', '<div class=\"c-span2\" data-a-6df6b556=\"\" style=\"text-align:center;max-width:none;\"><div data-a-188dee8a=\"\">0</div></div>', '<div class=\"c-span2\" data-a-6df6b556=\"\" style=\"text-align:center;max-width:none;\"><div data-a-188dee8a=\"\">0</div></div>', '<div class=\"c-span2\" data-a-6df6b556=\"\" style=\"text-align:center;max-width:none;\"><div data-a-188dee8a=\"\">0</div></div>', '<div class=\"c-span2\" data-a-6df6b556=\"\" style=\"text-align:center;max-width:none;\"><div data-a-188dee8a=\"\">0</div></div>', '<div class=\"c-span2\" data-a-6df6b556=\"\" style=\"text-align:center;max-width:none;\"><div data-a-188dee8a=\"\">0</div></div>', '<div class=\"c-span2\" data-a-6df6b556=\"\" style=\"text-align:center;max-width:none;\"><div data-a-188dee8a=\"\">0</div></div>', '<div class=\"c-span2\" data-a-6df6b556=\"\" style=\"text-align:center;max-width:none;\"><div data-a-188dee8a=\"\">0</div></div>', '<div class=\"c-span2\" data-a-6df6b556=\"\" style=\"text-align:center;max-width:none;\"><div data-a-188dee8a=\"\">0</div></div>', '<div class=\"c-span2\" data-a-6df6b556=\"\" style=\"text-align:center;max-width:none;\"><div data-a-188dee8a=\"\">0</div></div>', '<div class=\"c-span2\" data-a-6df6b556=\"\" style=\"text-align:center;max-width:none;\"><div data-a-188dee8a=\"\">0</div></div>', '<div class=\"c-span2\" data-a-6df6b556=\"\" style=\"text-align:center;max-width:none;\"><div data-a-188dee8a=\"\">0</div></div>', '<div class=\"c-span2\" data-a-6df6b556=\"\" style=\"text-align:center;max-width:none;\"><div data-a-188dee8a=\"\">0</div></div>', '<div class=\"c-span2\" data-a-6df6b556=\"\" style=\"text-align:center;max-width:none;\"><div data-a-188dee8a=\"\">0</div></div>', '<div class=\"c-span2\" data-a-6df6b556=\"\" style=\"text-align:center;max-width:none;\"><div data-a-188dee8a=\"\">0</div></div>', '<div class=\"c-span2\" data-a-6df6b556=\"\" style=\"text-align:center;max-width:none;\"><div data-a-188dee8a=\"\">0</div></div>', '<div class=\"c-span2\" data-a-6df6b556=\"\" style=\"text-align:center;max-width:none;\"><div data-a-188dee8a=\"\">0</div></div>', '<div class=\"c-span2\" data-a-6df6b556=\"\" style=\"text-align:center;max-width:none;\"><div data-a-188dee8a=\"\">0</div></div>', '<div class=\"c-span2\" data-a-6df6b556=\"\" style=\"text-align:center;max-width:none;\"><div data-a-188dee8a=\"\">0</div></div>', '<div class=\"c-span2\" data-a-6df6b556=\"\" style=\"text-align:center;max-width:none;\"><div data-a-188dee8a=\"\">0</div></div>', '<div class=\"c-span2\" data-a-6df6b556=\"\" style=\"text-align:center;max-width:none;\"><div data-a-188dee8a=\"\">0</div></div>', '<div class=\"c-span2\" data-a-6df6b556=\"\" style=\"text-align:center;max-width:none;\"><div data-a-188dee8a=\"\">0</div></div>', '<div class=\"c-span2\" data-a-6df6b556=\"\" style=\"text-align:center;max-width:none;\"><div data-a-188dee8a=\"\">0</div></div>', '<div class=\"c-span2\" data-a-6df6b556=\"\" style=\"text-align:center;max-width:none;\"><div data-a-188dee8a=\"\">0</div></div>', '<div class=\"c-span2\" data-a-6df6b556=\"\" style=\"text-align:center;max-width:none;\"><div data-a-188dee8a=\"\">0</div></div>', '<div class=\"c-span2\" data-a-6df6b556=\"\" style=\"text-align:center;max-width:none;\"><div data-a-188dee8a=\"\">0</div></div>', '<div class=\"c-span2\" data-a-6df6b556=\"\" style=\"text-align:center;max-width:none;\"><div data-a-188dee8a=\"\">0</div></div>', '<div class=\"c-span2\" data-a-6df6b556=\"\" style=\"text-align:center;max-width:none;\"><div data-a-188dee8a=\"\">0</div></div>', '<div class=\"c-span2\" data-a-6df6b556=\"\" style=\"text-align:center;max-width:none;\"><div data-a-188dee8a=\"\">0</div></div>', '<div class=\"c-span2\" data-a-6df6b556=\"\" style=\"text-align:center;max-width:none;\"><div data-a-188dee8a=\"\">0</div></div>', '<div class=\"c-span2\" data-a-6df6b556=\"\" style=\"text-align:center;max-width:none;\"><div data-a-188dee8a=\"\">0</div></div>', '<div class=\"c-span2\" data-a-6df6b556=\"\" style=\"text-align:center;max-width:none;\"><div data-a-188dee8a=\"\">0</div></div>', '<div class=\"c-span2\" data-a-6df6b556=\"\" style=\"text-align:center;max-width:none;\"><div data-a-188dee8a=\"\">0</div></div>', '<div class=\"c-span2\" data-a-6df6b556=\"\" style=\"text-align:center;max-width:none;\"><div data-a-188dee8a=\"\">0</div></div>', '<div class=\"c-span2\" data-a-6df6b556=\"\" style=\"text-align:center;max-width:none;\"><div data-a-188dee8a=\"\">0</div></div>', '<div class=\"c-span2\" data-a-6df6b556=\"\" style=\"text-align:center;max-width:none;\"><div data-a-188dee8a=\"\">0</div></div>', '<div class=\"c-span2\" data-a-6df6b556=\"\" style=\"text-align:center;max-width:none;\"><div data-a-188dee8a=\"\">0</div></div>', '<div class=\"c-span2\" data-a-6df6b556=\"\" style=\"text-align:center;max-width:none;\"><div data-a-188dee8a=\"\">0</div></div>', '<div class=\"c-span2\" data-a-6df6b556=\"\" style=\"text-align:center;max-width:none;\"><div data-a-188dee8a=\"\">0</div></div>', '<div class=\"c-span2\" data-a-6df6b556=\"\" style=\"text-align:center;max-width:none;\"><div data-a-188dee8a=\"\">0</div></div>', '<div class=\"c-span2\" data-a-6df6b556=\"\" style=\"text-align:center;max-width:none;\"><div data-a-188dee8a=\"\">0</div></div>', '<div class=\"c-span2\" data-a-6df6b556=\"\" style=\"text-align:center;max-width:none;\"><div data-a-188dee8a=\"\">0</div></div>', '<div class=\"c-span2\" data-a-6df6b556=\"\" style=\"text-align:center;max-width:none;\"><div data-a-188dee8a=\"\">0</div></div>', '<div class=\"c-span2\" data-a-6df6b556=\"\" style=\"text-align:center;max-width:none;\"><div data-a-188dee8a=\"\">0</div></div>', '<div class=\"c-span2\" data-a-6df6b556=\"\" style=\"text-align:center;max-width:none;\"><div data-a-188dee8a=\"\">0</div></div>', '<div class=\"c-span2\" data-a-6df6b556=\"\" style=\"text-align:center;max-width:none;\"><div data-a-188dee8a=\"\">0</div></div>', '<div class=\"c-span2\" data-a-6df6b556=\"\" style=\"text-align:center;max-width:none;\"><div data-a-188dee8a=\"\">0</div></div>', '<div class=\"c-span2\" data-a-6df6b556=\"\" style=\"text-align:center;max-width:none;\"><div data-a-188dee8a=\"\">0</div></div>', '<div class=\"c-span2\" data-a-6df6b556=\"\" style=\"text-align:center;max-width:none;\"><div data-a-188dee8a=\"\">0</div></div>', '<div class=\"c-span2\" data-a-6df6b556=\"\" style=\"text-align:center;max-width:none;\"><div data-a-188dee8a=\"\">0</div></div>', '<div class=\"c-span2\" data-a-6df6b556=\"\" style=\"text-align:center;max-width:none;\"><div data-a-188dee8a=\"\">0</div></div>', '<div class=\"c-span2\" data-a-6df6b556=\"\" style=\"text-align:center;max-width:none;\"><div data-a-188dee8a=\"\">0</div></div>', '<div class=\"c-span2\" data-a-6df6b556=\"\" style=\"text-align:center;max-width:none;\"><div data-a-188dee8a=\"\">0</div></div>', '<div class=\"c-span2\" data-a-6df6b556=\"\" style=\"text-align:center;max-width:none;\"><div data-a-188dee8a=\"\">0</div></div>', '<div class=\"c-span2\" data-a-6df6b556=\"\" style=\"text-align:center;max-width:none;\"><div data-a-188dee8a=\"\">0</div></div>', '<div class=\"c-span2\" data-a-6df6b556=\"\" style=\"text-align:center;max-width:none;\"><div data-a-188dee8a=\"\">0</div></div>', '<div class=\"c-span2\" data-a-6df6b556=\"\" style=\"text-align:center;max-width:none;\"><div data-a-188dee8a=\"\">0</div></div>', '<div class=\"c-span2\" data-a-6df6b556=\"\" style=\"text-align:center;max-width:none;\"><div data-a-188dee8a=\"\">0</div></div>', '<div class=\"c-span2\" data-a-6df6b556=\"\" style=\"text-align:center;max-width:none;\"><div data-a-188dee8a=\"\">0</div></div>', '<div class=\"c-span2\" data-a-6df6b556=\"\" style=\"text-align:center;max-width:none;\"><div data-a-188dee8a=\"\">0</div></div>']\n"
     ]
    }
   ],
   "source": [
    "# 导入必要模块\n",
    "import urllib.request, urllib.error\n",
    "from bs4 import BeautifulSoup\n",
    "import re\n",
    "import pandas as pd\n",
    "\n",
    "# 正则提取格式\n",
    "findTN = re.compile(r'<div class=\"team-name c-line-clamp1\" data-a-188dee8a=\"\">(.*?)</div>')\n",
    "findData = re.compile(r'<div data-a-188dee8a=\"\">(.*?)</div>')\n",
    "\n",
    "\n",
    "def askurl(url):\n",
    "    # 请求头\n",
    "    headers = {\n",
    "        'user-agent': 'Mozilla/5.0 (Windows NT 10.0; Win64; x64) AppleWebKit/537.36 (KHTML, like Gecko) Chrome/100.0.4896.60 Safari/537.36'\n",
    "    }\n",
    "    request = urllib.request.Request(url, headers=headers)\n",
    "    response = urllib.request.urlopen(request)\n",
    "    html = response.read().decode(\"utf-8\")\n",
    "    return html\n",
    "\n",
    "\n",
    "def getData(url):\n",
    "    # 获取网页\n",
    "    html = askurl(url)\n",
    "    soup = BeautifulSoup(html, \"html.parser\")\n",
    "    itemlist = []\n",
    "    datalist = []\n",
    "    teamname = []\n",
    "    winlist = []\n",
    "    losslist = []\n",
    "\n",
    "    for item in soup.find_all('div', class_=\"team-name c-line-clamp1\"):  #\n",
    "        item = str(item)  # 将每一项转化为字符串，以便正则提取\n",
    "\n",
    "        tn = re.findall(findTN, item)[0]\n",
    "        teamname.append(tn)\n",
    "\n",
    "    # 提取所需数据\n",
    "    for item in soup.find_all('div', class_=\"c-span2\"):\n",
    "        item = str(item)\n",
    "        itemlist.append(item)\n",
    "\n",
    "    #         wdata = re.findall(findData, item)\n",
    "    for item in itemlist:\n",
    "        data = re.findall(findData, item)\n",
    "\n",
    "        # 将空值去除\n",
    "        if data:\n",
    "            datalist.append(''.join(data))\n",
    "        else:\n",
    "            pass\n",
    "    for i in range(5, len(datalist), 4):\n",
    "        winlist.append(datalist[i])\n",
    "        losslist.append(datalist[i + 1])\n",
    "\n",
    "    todataframe(teamname, winlist, losslist)\n",
    "\n",
    "\n",
    "# 保存\n",
    "def todataframe(teamname, winlist, losslist):\n",
    "    data = {}\n",
    "    data['胜场'] = winlist\n",
    "    data['负场'] = losslist\n",
    "    df = pd.DataFrame(data, index=teamname)\n",
    "    writer = pd.ExcelWriter('../data.xlsx', mode='a', engine='openpyxl')\n",
    "    df.to_excel(writer, sheet_name='match data')\n",
    "    writer.save()\n",
    "\n",
    "if __name__ == '__main__':\n",
    "    # 网页URL\n",
    "    url = \"https://tiyu.baidu.com/match/lpl/tab/%E6%8E%92%E5%90%8D\"\n",
    "    # 获取数据\n",
    "    getData(url)"
   ]
  },
  {
   "cell_type": "code",
   "execution_count": null,
   "metadata": {},
   "outputs": [],
   "source": []
  }
 ],
 "metadata": {
  "kernelspec": {
   "display_name": "Python 3",
   "language": "python",
   "name": "python3"
  },
  "language_info": {
   "codemirror_mode": {
    "name": "ipython",
    "version": 3
   },
   "file_extension": ".py",
   "mimetype": "text/x-python",
   "name": "python",
   "nbconvert_exporter": "python",
   "pygments_lexer": "ipython3",
   "version": "3.8.5"
  }
 },
 "nbformat": 4,
 "nbformat_minor": 4
}
